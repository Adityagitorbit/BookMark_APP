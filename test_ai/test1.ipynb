{
 "cells": [
  {
   "cell_type": "code",
   "execution_count": 2,
   "metadata": {},
   "outputs": [],
   "source": [
    "from dotenv import load_dotenv\n",
    "from huggingface_hub import login\n",
    "from transformers import pipeline\n",
    "import os"
   ]
  },
  {
   "cell_type": "code",
   "execution_count": 3,
   "metadata": {},
   "outputs": [],
   "source": [
    "# Load environment variables from .env file\n",
    "load_dotenv()\n",
    "\n",
    "# Retrieve the Hugging Face API token\n",
    "hf_token = os.getenv(\"HF_API_TOKEN\")\n",
    "\n",
    "# Log in to Hugging Face\n",
    "login(hf_token)"
   ]
  },
  {
   "cell_type": "code",
   "execution_count": 8,
   "metadata": {},
   "outputs": [],
   "source": [
    "text = \"\"\"\n",
    "\n",
    "The Different Subjects of Computer Science Taught in Colleges\n",
    "\n",
    "Computer Science is a vast and ever-evolving field that forms the backbone of modern technology. Colleges offer a range of subjects designed to provide students with a comprehensive understanding of the concepts, tools, and technologies that drive the digital world. Here are some of the core subjects typically taught in Computer Science degree programs:\n",
    "\n",
    "Introduction to Programming One of the first subjects in Computer Science, Introduction to Programming teaches students the fundamentals of writing code. Students learn programming languages such as Python, Java, or C++ and are introduced to basic concepts like variables, loops, functions, and object-oriented programming (OOP).\n",
    "\n",
    "Data Structures and Algorithms This subject focuses on the organization and manipulation of data. Students learn various data structures (such as arrays, linked lists, stacks, and queues) and algorithms for efficiently searching, sorting, and processing data. Mastery of this subject is essential for solving complex problems in computing.\n",
    "\n",
    "Discrete Mathematics Discrete Mathematics provides the mathematical foundation for Computer Science. Topics such as logic, set theory, combinatorics, graph theory, and number theory are covered. These concepts are crucial for algorithms, cryptography, and theoretical computer science.\n",
    "\n",
    "Computer Architecture Computer Architecture explores the design and functioning of computer systems. Students learn about the hardware components of computers, such as the CPU, memory, and input/output devices, and how they interact. Understanding the architecture is vital for optimizing software performance.\n",
    "\n",
    "Operating Systems In this subject, students learn how operating systems manage computer hardware and software. Topics include process management, memory management, file systems, and security. Popular operating systems like Windows, Linux, and macOS are discussed in-depth.\n",
    "\n",
    "Database Management Systems (DBMS) This course covers the theory and practice of managing large sets of data. Students learn about relational databases, SQL (Structured Query Language), and database design principles. The subject is essential for building efficient data storage solutions for applications.\n",
    "\n",
    "Software Engineering Software Engineering focuses on the principles and methodologies used in the development of large-scale software systems. Students learn about the software development lifecycle, including requirements gathering, design, testing, and maintenance, with an emphasis on best practices for coding and project management.\n",
    "\n",
    "Computer Networks This subject teaches the principles behind communication between computers. Topics such as networking protocols, the OSI model, IP addressing, and wireless networks are explored. Understanding networking is essential for building and maintaining networked applications and services.\n",
    "\n",
    "Artificial Intelligence (AI) Artificial Intelligence introduces students to the concepts of creating intelligent systems capable of performing tasks that typically require human intelligence. This subject covers topics such as machine learning, natural language processing, computer vision, and robotics.\n",
    "\n",
    "Web Development Web Development focuses on creating interactive and user-friendly websites. Students learn both front-end (HTML, CSS, JavaScript) and back-end (server-side programming, databases) technologies, along with frameworks like React, Angular, and Django.\n",
    "\n",
    "Cybersecurity Cybersecurity teaches students how to protect computer systems and networks from threats such as hacking, malware, and data breaches. Students learn about cryptography, security protocols, ethical hacking, and how to secure digital infrastructures.\n",
    "\n",
    "Theory of Computation This subject delves into the theoretical aspects of computing, including automata theory, formal languages, Turing machines, and complexity theory. It explores what can and cannot be computed, laying the groundwork for fields like cryptography and computational theory.\n",
    "\n",
    "Human-Computer Interaction (HCI) HCI examines how humans interact with computers and designs user interfaces that are intuitive, effective, and accessible. Students learn about user-centered design, usability testing, and the psychology behind user experience (UX).\n",
    "\n",
    "Cloud Computing Cloud Computing covers the principles and technologies behind the delivery of computing services (like storage, databases, and processing) over the internet. Topics include cloud architectures, deployment models, and cloud security, with an emphasis on popular cloud platforms like AWS and Azure.\n",
    "\n",
    "Mobile App Development This subject focuses on the development of applications for mobile devices. Students learn programming for platforms like Android (Java/Kotlin) and iOS (Swift), as well as mobile app design principles and best practices for building responsive, user-friendly apps.\n",
    "\n",
    "Big Data Big Data covers the tools and techniques for managing and analyzing large datasets. Students are introduced to distributed computing frameworks like Hadoop and Spark, as well as data mining and data visualization methods to extract valuable insights from massive amounts of information.\n",
    "\n",
    "Machine Learning Machine Learning is a subfield of Artificial Intelligence that focuses on building algorithms that allow computers to learn from and make predictions based on data. Students study supervised, unsupervised, and reinforcement learning techniques, along with their applications in various fields like healthcare, finance, and marketing.\n",
    "\n",
    "Ethical Hacking and Penetration Testing This subject teaches students how to ethically hack into systems to identify and fix vulnerabilities. Students learn about penetration testing methodologies, risk assessment, and how to protect systems from cyber-attacks.\n",
    "\n",
    "\"\"\""
   ]
  },
  {
   "cell_type": "code",
   "execution_count": 9,
   "metadata": {},
   "outputs": [],
   "source": [
    "# Load zero-shot classification pipeline\n",
    "zero_shot_classifier = pipeline(\"zero-shot-classification\", model=\"facebook/bart-large-mnli\")"
   ]
  },
  {
   "cell_type": "code",
   "execution_count": 16,
   "metadata": {},
   "outputs": [
    {
     "name": "stdout",
     "output_type": "stream",
     "text": [
      "[0.3168257474899292, 0.2919088304042816, 0.2313716858625412, 0.1598937064409256]\n"
     ]
    }
   ],
   "source": [
    "# Load zero-shot classification pipeline\n",
    "zero_shot_classifier = pipeline(\"zero-shot-classification\", model=\"facebook/bart-large-mnli\")\n",
    "\n",
    "# Example text\n",
    "#text = \"The quick brown fox jumps over the lazy dog.\"\n",
    "\n",
    "# Candidate labels for classification\n",
    "candidate_labels = [\"medicine\", \"history\", \"computer\", \"mathematics\"]\n",
    "\n",
    "# Perform zero-shot classification\n",
    "result = zero_shot_classifier(text, candidate_labels=candidate_labels)\n",
    "\n",
    "# Print only the scores\n",
    "print(result['scores'])"
   ]
  }
 ],
 "metadata": {
  "kernelspec": {
   "display_name": "Python 3",
   "language": "python",
   "name": "python3"
  },
  "language_info": {
   "codemirror_mode": {
    "name": "ipython",
    "version": 3
   },
   "file_extension": ".py",
   "mimetype": "text/x-python",
   "name": "python",
   "nbconvert_exporter": "python",
   "pygments_lexer": "ipython3",
   "version": "3.10.16"
  }
 },
 "nbformat": 4,
 "nbformat_minor": 2
}
